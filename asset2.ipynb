{
 "cells": [
  {
   "cell_type": "code",
   "execution_count": 9,
   "metadata": {},
   "outputs": [
    {
     "name": "stderr",
     "output_type": "stream",
     "text": [
      "Parsed with column specification:\n",
      "cols(\n",
      "  .default = col_double(),\n",
      "  `SALE TYPE` = \u001b[31mcol_character()\u001b[39m,\n",
      "  `SOLD DATE` = \u001b[31mcol_character()\u001b[39m,\n",
      "  `PROPERTY TYPE` = \u001b[31mcol_character()\u001b[39m,\n",
      "  ADDRESS = \u001b[31mcol_character()\u001b[39m,\n",
      "  CITY = \u001b[31mcol_character()\u001b[39m,\n",
      "  `STATE OR PROVINCE` = \u001b[31mcol_character()\u001b[39m,\n",
      "  LOCATION = \u001b[31mcol_character()\u001b[39m,\n",
      "  STATUS = \u001b[31mcol_character()\u001b[39m,\n",
      "  `NEXT OPEN HOUSE START TIME` = \u001b[33mcol_logical()\u001b[39m,\n",
      "  `NEXT OPEN HOUSE END TIME` = \u001b[33mcol_logical()\u001b[39m,\n",
      "  `URL (SEE http://www.redfin.com/buy-a-home/comparative-market-analysis FOR INFO ON PRICING)` = \u001b[31mcol_character()\u001b[39m,\n",
      "  SOURCE = \u001b[31mcol_character()\u001b[39m,\n",
      "  `MLS#` = \u001b[31mcol_character()\u001b[39m,\n",
      "  FAVORITE = \u001b[31mcol_character()\u001b[39m,\n",
      "  INTERESTED = \u001b[31mcol_character()\u001b[39m,\n",
      "  comments = \u001b[31mcol_character()\u001b[39m\n",
      ")\n",
      "\n",
      "See spec(...) for full column specifications.\n",
      "\n"
     ]
    }
   ],
   "source": [
    "#####READ THIS FIRST\n",
    "#Given the current sample size and analysis (regressions), you will see that single family homes and town houses \n",
    "#show that different natural elements within the photo have a different relationship with days on market. \n",
    "#I am using only the manually created tags of the photo for these regression models.\n",
    "#Please note that these results are a generalized model for all photos and properties.\n",
    "#This could be interesting to further explore with more categories (home properties and photo properties),\n",
    "#larger sample size (more months, bigger residential areas).\n",
    "\n",
    "\n",
    "\n",
    "library (readr)\n",
    "\n",
    "urlfile=\"https://raw.githubusercontent.com/jdhl85/TDI/master/redfin_2020-08-02-13-19-53.csv\"\n",
    "JulyRestonSold<-read_csv(url(urlfile))"
   ]
  },
  {
   "cell_type": "code",
   "execution_count": 10,
   "metadata": {},
   "outputs": [
    {
     "name": "stdout",
     "output_type": "stream",
     "text": [
      "[1] \"hi\"\n"
     ]
    }
   ],
   "source": [
    "library(dplyr)\n",
    "library(tidyr)\n",
    "\n",
    "#process/clean data\n",
    "JulyRestonSold = JulyRestonSold %>% drop_na(score) #remove rows that are not usable\n",
    "JulyRestonSold[,2:9][is.na(JulyRestonSold[,2:9])] = 0 #NA's that should be zeros\n",
    "JulyRestonSold=JulyRestonSold %>% mutate(front = ifelse(combo == 1, 0, front)) #make each location of picture taken mutually exclusive\n",
    "JulyRestonSold=JulyRestonSold %>% mutate(back = ifelse(combo == 1, 0, back))\n",
    "JulyRestonSold=JulyRestonSold %>% mutate(side = ifelse(combo == 1, 0, side))\n",
    "JulyRestonSold=JulyRestonSold %>% mutate(inside = ifelse(combo == 1, 0, inside))\n",
    "JulyRestonSold$backOrSide = JulyRestonSold$back +JulyRestonSold$side #combine side and back pictures to get reasonable sample size\n",
    "\n",
    "#clean/codify property types\n",
    "JulyRestonSold=JulyRestonSold %>% mutate(`PROPERTY TYPE` = ifelse(`PROPERTY TYPE` == \"Other\", \"Single Family Residential\", `PROPERTY TYPE`))\n",
    "JulyRestonSold=JulyRestonSold %>% mutate(`PROPERTY TYPE` = ifelse(`PROPERTY TYPE` == \"Single Family Residential\", 0, \n",
    "                                                                  ifelse(`PROPERTY TYPE` == \"Townhouse\", 1, 2))) #0 sfh, 1 th, 2 condo\n",
    "#re-categorize to low avg high\n",
    "JulyRestonSold$scoreCat = ifelse(JulyRestonSold$score == 1 | JulyRestonSold$score == 2, 1,\n",
    "                                 ifelse(JulyRestonSold$score == 3, 2, 3)) #1 low, 2 avg, 3 high\n",
    "#take number of nature elements in picture\n",
    "JulyRestonSold$numNat = JulyRestonSold$trees +JulyRestonSold$sky +JulyRestonSold$grass #counting how many nature elements there are in picture\n",
    "\n",
    "#get better view of data to be used/further processed\n",
    "#keep columns 5,6,7,8,9,13,15,16,20,21,22,24,27,28,41,42,43\n",
    "JRS_inProg = JulyRestonSold[,c(5,6,7,8,9,13,15,16,20,21,22,24,27,28,41,42,43)]\n",
    "JRS_inProg$priceDiff = JRS_inProg$PRICE - JRS_inProg$`redfin est`\n",
    "JRS_inProg$scoreAvg = ifelse(JRS_inProg$scoreCat==2, 1,0)\n",
    "JRS_inProg$scoreHigh = ifelse(JRS_inProg$scoreCat==3, 1,0)\n",
    "JRS_inProg$Nat1 = ifelse(JRS_inProg$numNat==1, 1,0)\n",
    "JRS_inProg$Nat2 = ifelse(JRS_inProg$numNat==2, 1,0)\n",
    "JRS_inProg$Nat3 = ifelse(JRS_inProg$numNat==3, 1,0)\n",
    "#will not use condo data since it seems a bit harder to produce quality pictures of condos\n",
    "JRS_inProg = subset(JRS_inProg, JRS_inProg$`PROPERTY TYPE` != 2)\n",
    "\n",
    "#create sets for sfh and th, and remove unnecessary columns\n",
    "cols4days= c(\"DAYS ON MARKET\",\"backOrSide\",\"inside\",\"combo\",\"trees\",\"sky\",\"grass\",\"scoreAvg\",\"scoreHigh\")\n",
    "JRS_days= subset(JRS_inProg, select = cols4days)\n",
    "singleFamHomes = subset(JRS_inProg,JRS_inProg$`PROPERTY TYPE`==0)\n",
    "sfh_days= subset(singleFamHomes, select = cols4days)\n",
    "townHomes = subset(JRS_inProg,JRS_inProg$`PROPERTY TYPE`==1)\n",
    "th_days= subset(townHomes, select = cols4days)\n",
    "\n",
    "print(\"hi\")"
   ]
  },
  {
   "cell_type": "code",
   "execution_count": 17,
   "metadata": {},
   "outputs": [
    {
     "data": {
      "text/plain": [
       "\n",
       "Call:\n",
       "glm(formula = JRS_days$`DAYS ON MARKET` ~ ., family = \"poisson\", \n",
       "    data = JRS_days)\n",
       "\n",
       "Deviance Residuals: \n",
       "    Min       1Q   Median       3Q      Max  \n",
       "-4.0726  -2.0884   0.0421   1.5787   3.4751  \n",
       "\n",
       "Coefficients:\n",
       "            Estimate Std. Error z value Pr(>|z|)    \n",
       "(Intercept)  3.26161    0.11387  28.642  < 2e-16 ***\n",
       "backOrSide   0.03211    0.13592   0.236 0.813235    \n",
       "inside      -1.04119    0.29093  -3.579 0.000345 ***\n",
       "combo       -0.20384    0.16285  -1.252 0.210697    \n",
       "trees       -0.71818    0.11822  -6.075 1.24e-09 ***\n",
       "sky          0.09223    0.05958   1.548 0.121630    \n",
       "grass        0.09803    0.05931   1.653 0.098334 .  \n",
       "scoreAvg    -0.09710    0.06779  -1.432 0.152036    \n",
       "scoreHigh   -0.07938    0.07864  -1.009 0.312790    \n",
       "---\n",
       "Signif. codes:  0 ‘***’ 0.001 ‘**’ 0.01 ‘*’ 0.05 ‘.’ 0.1 ‘ ’ 1\n",
       "\n",
       "(Dispersion parameter for poisson family taken to be 1)\n",
       "\n",
       "    Null deviance: 527.71  on 97  degrees of freedom\n",
       "Residual deviance: 474.76  on 89  degrees of freedom\n",
       "AIC: 904.33\n",
       "\n",
       "Number of Fisher Scoring iterations: 5\n"
      ]
     },
     "metadata": {},
     "output_type": "display_data"
    }
   ],
   "source": [
    "poiss_mod = glm(JRS_days$`DAYS ON MARKET`~., family=\"poisson\", data=JRS_days)\n",
    "summary(poiss_mod)\n",
    "\n",
    "#For all (single family and town homes), when photograph of inside it sold faster\n",
    "#when there were trees in the photo it sold faster\n",
    "#when there was grass in the photo it sold slower"
   ]
  },
  {
   "cell_type": "code",
   "execution_count": 18,
   "metadata": {},
   "outputs": [
    {
     "data": {
      "text/plain": [
       "\n",
       "Call:\n",
       "glm(formula = sfh_days$`DAYS ON MARKET` ~ ., family = \"poisson\", \n",
       "    data = sfh_days)\n",
       "\n",
       "Deviance Residuals: \n",
       "    Min       1Q   Median       3Q      Max  \n",
       "-3.7247  -1.6217  -0.1189   1.2981   3.6063  \n",
       "\n",
       "Coefficients: (2 not defined because of singularities)\n",
       "            Estimate Std. Error z value Pr(>|z|)    \n",
       "(Intercept)  2.53470    0.14595  17.367  < 2e-16 ***\n",
       "backOrSide   0.54772    0.16490   3.322 0.000895 ***\n",
       "inside            NA         NA      NA       NA    \n",
       "combo        0.18290    0.20556   0.890 0.373598    \n",
       "trees             NA         NA      NA       NA    \n",
       "sky          0.16524    0.10489   1.575 0.115169    \n",
       "grass       -0.18092    0.13203  -1.370 0.170581    \n",
       "scoreAvg    -0.06234    0.13861  -0.450 0.652901    \n",
       "scoreHigh    0.01635    0.14118   0.116 0.907822    \n",
       "---\n",
       "Signif. codes:  0 ‘***’ 0.001 ‘**’ 0.01 ‘*’ 0.05 ‘.’ 0.1 ‘ ’ 1\n",
       "\n",
       "(Dispersion parameter for poisson family taken to be 1)\n",
       "\n",
       "    Null deviance: 209.44  on 42  degrees of freedom\n",
       "Residual deviance: 193.58  on 36  degrees of freedom\n",
       "AIC: 384.84\n",
       "\n",
       "Number of Fisher Scoring iterations: 5\n"
      ]
     },
     "metadata": {},
     "output_type": "display_data"
    }
   ],
   "source": [
    "poiss_mod = glm(sfh_days$`DAYS ON MARKET`~.,family=\"poisson\", data=sfh_days)\n",
    "summary(poiss_mod)\n",
    "\n",
    "#For single family homes, there were no significant results"
   ]
  },
  {
   "cell_type": "code",
   "execution_count": 19,
   "metadata": {},
   "outputs": [
    {
     "data": {
      "text/plain": [
       "\n",
       "Call:\n",
       "glm(formula = th_days$`DAYS ON MARKET` ~ ., family = \"poisson\", \n",
       "    data = th_days)\n",
       "\n",
       "Deviance Residuals: \n",
       "    Min       1Q   Median       3Q      Max  \n",
       "-4.5121  -1.7620   0.1729   1.3339   3.2698  \n",
       "\n",
       "Coefficients:\n",
       "            Estimate Std. Error z value Pr(>|z|)    \n",
       "(Intercept)  3.22377    0.11900  27.090  < 2e-16 ***\n",
       "backOrSide  -0.69344    0.25790  -2.689 0.007171 ** \n",
       "inside      -0.99519    0.29432  -3.381 0.000722 ***\n",
       "combo       -0.64480    0.28824  -2.237 0.025286 *  \n",
       "trees       -0.63073    0.12383  -5.093 3.52e-07 ***\n",
       "sky          0.05287    0.07550   0.700 0.483775    \n",
       "grass        0.29248    0.07405   3.950 7.83e-05 ***\n",
       "scoreAvg    -0.07645    0.08132  -0.940 0.347165    \n",
       "scoreHigh   -0.14197    0.11560  -1.228 0.219419    \n",
       "---\n",
       "Signif. codes:  0 ‘***’ 0.001 ‘**’ 0.01 ‘*’ 0.05 ‘.’ 0.1 ‘ ’ 1\n",
       "\n",
       "(Dispersion parameter for poisson family taken to be 1)\n",
       "\n",
       "    Null deviance: 310.01  on 54  degrees of freedom\n",
       "Residual deviance: 236.21  on 46  degrees of freedom\n",
       "AIC: 488.52\n",
       "\n",
       "Number of Fisher Scoring iterations: 5\n"
      ]
     },
     "metadata": {},
     "output_type": "display_data"
    }
   ],
   "source": [
    "poiss_mod = glm(th_days$`DAYS ON MARKET`~.,family=\"poisson\", data=th_days)\n",
    "summary(poiss_mod)\n",
    "\n",
    "#For town homes, photos with locations other than the front(baseline vairable) sold faster\n",
    "#photos with trees sold faster\n",
    "#while photos with grass sold slower"
   ]
  }
 ],
 "metadata": {
  "kernelspec": {
   "display_name": "R",
   "language": "R",
   "name": "ir"
  },
  "language_info": {
   "codemirror_mode": "r",
   "file_extension": ".r",
   "mimetype": "text/x-r-source",
   "name": "R",
   "pygments_lexer": "r",
   "version": "3.6.3"
  }
 },
 "nbformat": 4,
 "nbformat_minor": 4
}
